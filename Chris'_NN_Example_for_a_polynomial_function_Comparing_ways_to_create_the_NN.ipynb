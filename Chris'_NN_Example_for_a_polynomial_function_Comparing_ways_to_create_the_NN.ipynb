{
  "nbformat": 4,
  "nbformat_minor": 0,
  "metadata": {
    "kernelspec": {
      "display_name": "Python 3",
      "language": "python",
      "name": "python3"
    },
    "language_info": {
      "codemirror_mode": {
        "name": "ipython",
        "version": 3
      },
      "file_extension": ".py",
      "mimetype": "text/x-python",
      "name": "python",
      "nbconvert_exporter": "python",
      "pygments_lexer": "ipython3",
      "version": "3.6.12"
    },
    "colab": {
      "name": "Chris' NN Example for a polynomial function - Comparing ways to create the NN.ipynb",
      "provenance": [],
      "collapsed_sections": [
        "NLze2_jiB6P5",
        "UIsdDClaCDbF",
        "DJULbOZSCGuQ"
      ]
    }
  },
  "cells": [
    {
      "cell_type": "code",
      "metadata": {
        "id": "IJdpLxoIB6Px"
      },
      "source": [
        "%matplotlib inline"
      ],
      "execution_count": null,
      "outputs": []
    },
    {
      "cell_type": "markdown",
      "metadata": {
        "id": "NLze2_jiB6P5"
      },
      "source": [
        "\n",
        "PyTorch: nn\n",
        "-----------\n",
        "\n",
        "A third order polynomial, trained to predict $y=\\sin(x)$ from $-\\pi$\n",
        "to $pi$ by minimizing squared Euclidean distance.\n",
        "\n",
        "This implementation uses the nn package from PyTorch to build the network.\n",
        "PyTorch autograd makes it easy to define computational graphs and take gradients,\n",
        "but raw autograd can be a bit too low-level for defining complex neural networks;\n",
        "this is where the nn package can help. The nn package defines a set of Modules,\n",
        "which you can think of as a neural network layer that has produces output from\n",
        "input and may have some trainable weights.\n",
        "\n"
      ]
    },
    {
      "cell_type": "code",
      "metadata": {
        "id": "zEgLvwS_B6P6",
        "colab": {
          "base_uri": "https://localhost:8080/"
        },
        "outputId": "1e36af6e-7241-4007-c07f-e120c427ca4c"
      },
      "source": [
        "import torch\n",
        "import math\n",
        "\n",
        "\n",
        "# Create Tensors to hold input and outputs.\n",
        "x = torch.linspace(-math.pi, math.pi, 2000)\n",
        "y = torch.sin(x)\n",
        "\n",
        "# For this example, the output y is a linear function of (x, x^2, x^3), so\n",
        "# we can consider it as a linear layer neural network. Let's prepare the\n",
        "# tensor (x, x^2, x^3).\n",
        "p = torch.tensor([1, 2, 3])\n",
        "xx = x.unsqueeze(-1).pow(p)\n",
        "\n",
        "# In the above code, x.unsqueeze(-1) has shape (2000, 1), and p has shape\n",
        "# (3,), for this case, broadcasting semantics will apply to obtain a tensor\n",
        "# of shape (2000, 3) \n",
        "\n",
        "# Use the nn package to define our model as a sequence of layers. nn.Sequential\n",
        "# is a Module which contains other Modules, and applies them in sequence to\n",
        "# produce its output. The Linear Module computes output from input using a\n",
        "# linear function, and holds internal Tensors for its weight and bias.\n",
        "# The Flatten layer flatens the output of the linear layer to a 1D tensor,\n",
        "# to match the shape of `y`.\n",
        "model = torch.nn.Sequential(\n",
        "    torch.nn.Linear(3, 1),\n",
        "    torch.nn.Flatten(0, 1)\n",
        ")\n",
        "\n",
        "# The nn package also contains definitions of popular loss functions; in this\n",
        "# case we will use Mean Squared Error (MSE) as our loss function.\n",
        "loss_fn = torch.nn.MSELoss(reduction='sum')\n",
        "\n",
        "learning_rate = 1e-6\n",
        "for t in range(2000):\n",
        "\n",
        "    # Forward pass: compute predicted y by passing x to the model. Module objects\n",
        "    # override the __call__ operator so you can call them like functions. When\n",
        "    # doing so you pass a Tensor of input data to the Module and it produces\n",
        "    # a Tensor of output data.\n",
        "    y_pred = model(xx)\n",
        "\n",
        "    # Compute and print loss. We pass Tensors containing the predicted and true\n",
        "    # values of y, and the loss function returns a Tensor containing the\n",
        "    # loss.\n",
        "    loss = loss_fn(y_pred, y)\n",
        "    if t % 100 == 99:\n",
        "        print(t, loss.item())\n",
        "\n",
        "    # Zero the gradients before running the backward pass.\n",
        "    model.zero_grad()\n",
        "\n",
        "    # Backward pass: compute gradient of the loss with respect to all the learnable\n",
        "    # parameters of the model. Internally, the parameters of each Module are stored\n",
        "    # in Tensors with requires_grad=True, so this call will compute gradients for\n",
        "    # all learnable parameters in the model.\n",
        "    loss.backward()\n",
        "\n",
        "    # Update the weights using gradient descent. Each parameter is a Tensor, so\n",
        "    # we can access its gradients like we did before.\n",
        "    with torch.no_grad():\n",
        "        for param in model.parameters():\n",
        "            param -= learning_rate * param.grad\n",
        "\n",
        "# You can access the first layer of `model` like accessing the first item of a list\n",
        "linear_layer = model[0]\n",
        "\n",
        "# For linear layer, its parameters are stored as `weight` and `bias`.\n",
        "print(f'Result: y = {linear_layer.bias.item()} + {linear_layer.weight[:, 0].item()} x + {linear_layer.weight[:, 1].item()} x^2 + {linear_layer.weight[:, 2].item()} x^3')"
      ],
      "execution_count": null,
      "outputs": [
        {
          "output_type": "stream",
          "text": [
            "99 261.05279541015625\n",
            "199 179.1126708984375\n",
            "299 123.90510559082031\n",
            "399 86.67420196533203\n",
            "499 61.54219436645508\n",
            "599 44.56049346923828\n",
            "699 33.07444763183594\n",
            "799 25.297409057617188\n",
            "899 20.026241302490234\n",
            "999 16.44955825805664\n",
            "1099 14.020073890686035\n",
            "1199 12.367971420288086\n",
            "1299 11.243254661560059\n",
            "1399 10.476689338684082\n",
            "1499 9.953645706176758\n",
            "1599 9.596348762512207\n",
            "1699 9.351988792419434\n",
            "1799 9.184666633605957\n",
            "1899 9.069984436035156\n",
            "1999 8.991283416748047\n",
            "Result: y = -0.01089026965200901 + 0.8487093448638916 x + 0.0018787527224048972 x^2 + -0.09218797832727432 x^3\n"
          ],
          "name": "stdout"
        }
      ]
    },
    {
      "cell_type": "markdown",
      "metadata": {
        "id": "UIsdDClaCDbF"
      },
      "source": [
        "\n",
        "PyTorch: optim\n",
        "--------------\n",
        "\n",
        "A third order polynomial, trained to predict $y=\\sin(x)$ from $-\\pi$\n",
        "to $pi$ by minimizing squared Euclidean distance.\n",
        "\n",
        "This implementation uses the nn package from PyTorch to build the network.\n",
        "\n",
        "Rather than manually updating the weights of the model as we have been doing,\n",
        "we use the optim package to define an Optimizer that will update the weights\n",
        "for us. The optim package defines many optimization algorithms that are commonly\n",
        "used for deep learning, including SGD+momentum, RMSProp, Adam, etc.\n",
        "\n"
      ]
    },
    {
      "cell_type": "code",
      "metadata": {
        "id": "3nz0XAJOCDbG",
        "colab": {
          "base_uri": "https://localhost:8080/"
        },
        "outputId": "dbdb0231-c2cb-476f-dac3-b03329fc34a2"
      },
      "source": [
        "import torch\n",
        "import math\n",
        "\n",
        "\n",
        "# Create Tensors to hold input and outputs.\n",
        "x = torch.linspace(-math.pi, math.pi, 2000)\n",
        "y = torch.sin(x)\n",
        "\n",
        "# Prepare the input tensor (x, x^2, x^3).\n",
        "p = torch.tensor([1, 2, 3])\n",
        "xx = x.unsqueeze(-1).pow(p)\n",
        "\n",
        "# Use the nn package to define our model and loss function.\n",
        "model = torch.nn.Sequential(\n",
        "    torch.nn.Linear(3, 1),\n",
        "    torch.nn.Flatten(0, 1)\n",
        ")\n",
        "loss_fn = torch.nn.MSELoss(reduction='sum')\n",
        "\n",
        "# Use the optim package to define an Optimizer that will update the weights of\n",
        "# the model for us. Here we will use RMSprop; the optim package contains many other\n",
        "# optimization algorithms. The first argument to the RMSprop constructor tells the\n",
        "# optimizer which Tensors it should update.\n",
        "learning_rate = 1e-3\n",
        "optimizer = torch.optim.RMSprop(model.parameters(), lr=learning_rate)\n",
        "for t in range(2000):\n",
        "    # Forward pass: compute predicted y by passing x to the model.\n",
        "    y_pred = model(xx)\n",
        "\n",
        "    # Compute and print loss.\n",
        "    loss = loss_fn(y_pred, y)\n",
        "    if t % 100 == 99:\n",
        "        print(t, loss.item())\n",
        "\n",
        "    # Before the backward pass, use the optimizer object to zero all of the\n",
        "    # gradients for the variables it will update (which are the learnable\n",
        "    # weights of the model). This is because by default, gradients are\n",
        "    # accumulated in buffers( i.e, not overwritten) whenever .backward()\n",
        "    # is called. Checkout docs of torch.autograd.backward for more details.\n",
        "    optimizer.zero_grad()\n",
        "\n",
        "    # Backward pass: compute gradient of the loss with respect to model\n",
        "    # parameters\n",
        "    loss.backward()\n",
        "\n",
        "    # Calling the step function on an Optimizer makes an update to its\n",
        "    # parameters\n",
        "    optimizer.step()\n",
        "\n",
        "\n",
        "linear_layer = model[0]\n",
        "print(f'Result: y = {linear_layer.bias.item()} + {linear_layer.weight[:, 0].item()} x + {linear_layer.weight[:, 1].item()} x^2 + {linear_layer.weight[:, 2].item()} x^3')"
      ],
      "execution_count": null,
      "outputs": [
        {
          "output_type": "stream",
          "text": [
            "99 15142.15625\n",
            "199 5675.65625\n",
            "299 1859.33837890625\n",
            "399 702.3521118164062\n",
            "499 503.9269714355469\n",
            "599 455.68701171875\n",
            "699 398.758544921875\n",
            "799 328.12451171875\n",
            "899 252.0768585205078\n",
            "999 180.63743591308594\n",
            "1099 120.52521514892578\n",
            "1199 74.38278198242188\n",
            "1299 42.209861755371094\n",
            "1399 22.529041290283203\n",
            "1499 14.21106243133545\n",
            "1599 9.469690322875977\n",
            "1699 9.061429023742676\n",
            "1799 8.981921195983887\n",
            "1899 9.012584686279297\n",
            "1999 8.914104461669922\n",
            "Result: y = -0.0004991129972040653 + 0.8571563959121704 x + -0.0004991061287000775 x^2 + -0.09285847842693329 x^3\n"
          ],
          "name": "stdout"
        }
      ]
    },
    {
      "cell_type": "markdown",
      "metadata": {
        "id": "DJULbOZSCGuQ"
      },
      "source": [
        "\n",
        "PyTorch: Custom nn Modules\n",
        "--------------------------\n",
        "\n",
        "A third order polynomial, trained to predict $y=\\sin(x)$ from $-\\pi$\n",
        "to $pi$ by minimizing squared Euclidean distance.\n",
        "\n",
        "This implementation defines the model as a custom Module subclass. Whenever you\n",
        "want a model more complex than a simple sequence of existing Modules you will\n",
        "need to define your model this way.\n",
        "\n"
      ]
    },
    {
      "cell_type": "code",
      "metadata": {
        "id": "ESibnNOcCGuR",
        "colab": {
          "base_uri": "https://localhost:8080/"
        },
        "outputId": "3053c27b-ae46-4e75-b189-eb6326dd56f2"
      },
      "source": [
        "import torch\n",
        "import math\n",
        "\n",
        "\n",
        "class Polynomial3(torch.nn.Module):\n",
        "    def __init__(self):\n",
        "        \"\"\"\n",
        "        In the constructor we instantiate four parameters and assign them as\n",
        "        member parameters.\n",
        "        \"\"\"\n",
        "        super().__init__()\n",
        "        self.a = torch.nn.Parameter(torch.randn(()))\n",
        "        self.b = torch.nn.Parameter(torch.randn(()))\n",
        "        self.c = torch.nn.Parameter(torch.randn(()))\n",
        "        self.d = torch.nn.Parameter(torch.randn(()))\n",
        "\n",
        "    def forward(self, x):\n",
        "        \"\"\"\n",
        "        In the forward function we accept a Tensor of input data and we must return\n",
        "        a Tensor of output data. We can use Modules defined in the constructor as\n",
        "        well as arbitrary operators on Tensors.\n",
        "        \"\"\"\n",
        "        return self.a + self.b * x + self.c * x ** 2 + self.d * x ** 3\n",
        "\n",
        "    def string(self):\n",
        "        \"\"\"\n",
        "        Just like any class in Python, you can also define custom method on PyTorch modules\n",
        "        \"\"\"\n",
        "        return f'y = {self.a.item()} + {self.b.item()} x + {self.c.item()} x^2 + {self.d.item()} x^3'\n",
        "\n",
        "\n",
        "# Create Tensors to hold input and outputs.\n",
        "x = torch.linspace(-math.pi, math.pi, 2000)\n",
        "y = torch.sin(x)\n",
        "\n",
        "# Construct our model by instantiating the class defined above\n",
        "model = Polynomial3()\n",
        "\n",
        "# Construct our loss function and an Optimizer. The call to model.parameters()\n",
        "# in the SGD constructor will contain the learnable parameters (defined \n",
        "# with torch.nn.Parameter) which are members of the model.\n",
        "criterion = torch.nn.MSELoss(reduction='sum')\n",
        "optimizer = torch.optim.SGD(model.parameters(), lr=1e-6)\n",
        "for t in range(2000):\n",
        "    # Forward pass: Compute predicted y by passing x to the model\n",
        "    y_pred = model(x)\n",
        "\n",
        "    # Compute and print loss\n",
        "    loss = criterion(y_pred, y)\n",
        "    if t % 100 == 99:\n",
        "        print(t, loss.item())\n",
        "\n",
        "    # Zero gradients, perform a backward pass, and update the weights.\n",
        "    optimizer.zero_grad()\n",
        "    loss.backward()\n",
        "    optimizer.step()\n",
        "\n",
        "print(f'Result: {model.string()}')"
      ],
      "execution_count": null,
      "outputs": [
        {
          "output_type": "stream",
          "text": [
            "99 1625.3323974609375\n",
            "199 1086.4283447265625\n",
            "299 727.5369262695312\n",
            "399 488.4220886230469\n",
            "499 329.0353088378906\n",
            "599 222.74024963378906\n",
            "699 151.81610107421875\n",
            "799 104.46666717529297\n",
            "899 72.837646484375\n",
            "999 51.697200775146484\n",
            "1099 37.55830001831055\n",
            "1199 28.095935821533203\n",
            "1299 21.7589168548584\n",
            "1399 17.51189613342285\n",
            "1499 14.663514137268066\n",
            "1599 12.751662254333496\n",
            "1699 11.46742057800293\n",
            "1799 10.604023933410645\n",
            "1899 10.023046493530273\n",
            "1999 9.631755828857422\n",
            "Result: y = 0.017147650942206383 + 0.8795827031135559 x + -0.0029582539573311806 x^2 + -0.09657943993806839 x^3\n"
          ],
          "name": "stdout"
        }
      ]
    }
  ]
}